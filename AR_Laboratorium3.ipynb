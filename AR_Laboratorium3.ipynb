{
 "cells": [
  {
   "cell_type": "markdown",
   "metadata": {},
   "source": [
    "### Mechanizmy współbieżności i równoległości w Julii "
   ]
  },
  {
   "cell_type": "markdown",
   "metadata": {},
   "source": [
    "Kanały komunikacyjne pomiędzy zadaniami współbieżnymi (tutaj w ramach jednego procesu)"
   ]
  },
  {
   "cell_type": "code",
   "execution_count": 1,
   "metadata": {},
   "outputs": [
    {
     "data": {
      "text/plain": [
       "Task (runnable) @0x00007f94a08a0a90"
      ]
     },
     "execution_count": 1,
     "metadata": {},
     "output_type": "execute_result"
    }
   ],
   "source": [
    "# Definijemy kanał komunikacyjny\n",
    "c= Channel(32)\n",
    "\n",
    "# funkcja consumer czyta dane z kanalu komunikacyjnego \n",
    "function consumer()\n",
    "    for i in 1:3\n",
    "        data = take!(c)\n",
    "        println(\"Konsumuje \", data)\n",
    "    end    \n",
    "end\n",
    "\n",
    "#uruchamiam funkcje consumer() jako współbieżne zadanie (Task)\n",
    "consumertask= @async consumer()\n"
   ]
  },
  {
   "cell_type": "code",
   "execution_count": 2,
   "metadata": {},
   "outputs": [
    {
     "name": "stdout",
     "output_type": "stream",
     "text": [
      "Konsumuje 1\n",
      "Konsumuje 2\n",
      "Konsumuje 3\n"
     ]
    }
   ],
   "source": [
    "# pętla producenta\n",
    "for i in 1:3\n",
    "    put!(c,i) \n",
    "end"
   ]
  },
  {
   "cell_type": "markdown",
   "metadata": {},
   "source": [
    "### Programowanie równoległe"
   ]
  },
  {
   "cell_type": "code",
   "execution_count": 3,
   "metadata": {},
   "outputs": [
    {
     "name": "stdout",
     "output_type": "stream",
     "text": [
      "5\n",
      "[2, 3, 4, 5]\n",
      "4\n"
     ]
    }
   ],
   "source": [
    "using Distributed\n",
    "if nprocs() == 1\n",
    "    addprocs(4)\n",
    "end\n",
    "# wszystkie procesy\n",
    "nprocs() |> println\n",
    "# procesy workerów\n",
    "# tablica identyfikatorów\n",
    "workers() |> println\n",
    "# ilość\n",
    "nworkers()|> println"
   ]
  },
  {
   "cell_type": "code",
   "execution_count": 4,
   "metadata": {},
   "outputs": [
    {
     "data": {
      "text/plain": [
       "Future(2, 1, 6, nothing)"
      ]
     },
     "execution_count": 4,
     "metadata": {},
     "output_type": "execute_result"
    }
   ],
   "source": [
    "# uruchom funkcje na wybranym workerze, zwraca future\n",
    "# future = \"pudełko\" na wynik, które wypełni się, jak wynik będzie gotowy\n",
    "# argumenty:\n",
    "# 1. funkcja jaka się ma wykonać\n",
    "# 2. identyfikator workera, \n",
    "# 3. parametry funkcji\n",
    "ref = remotecall(myid,workers()[1])"
   ]
  },
  {
   "cell_type": "code",
   "execution_count": 5,
   "metadata": {},
   "outputs": [
    {
     "name": "stdout",
     "output_type": "stream",
     "text": [
      "2\n"
     ]
    }
   ],
   "source": [
    "# czekamy na wynik i wypełniamy pudełko\n",
    "_id = fetch(ref)\n",
    "println(_id)"
   ]
  },
  {
   "cell_type": "code",
   "execution_count": 6,
   "metadata": {},
   "outputs": [
    {
     "name": "stdout",
     "output_type": "stream",
     "text": [
      "  0.462858 seconds (854.22 k allocations: 42.966 MiB, 3.28% gc time)\n",
      "20\n",
      "  2.442863 seconds (325 allocations: 15.422 KiB)\n"
     ]
    }
   ],
   "source": [
    "@time ref = remotecall(x->(sleep(x);10x), workers()[1], 2)\n",
    "@time fetch(ref) |> println"
   ]
  },
  {
   "cell_type": "code",
   "execution_count": 7,
   "metadata": {},
   "outputs": [
    {
     "data": {
      "text/plain": [
       "2×2 Array{Float64,2}:\n",
       " 1.53511  1.3371 \n",
       " 1.14919  1.57484"
      ]
     },
     "execution_count": 7,
     "metadata": {},
     "output_type": "execute_result"
    }
   ],
   "source": [
    "# przekazywanie RemoteRef między procesami\n",
    "# makro @spawnat oblicza na workerze, którego identyfikator jest podany w pierwszym argumencie\n",
    "# wyrażenie podane w  drugim argumencie \n",
    "# makro - wygodniejsze w użyciu niż funkcja\n",
    "\n",
    "r = remotecall(rand, 2, 2, 2)\n",
    "s = @spawnat 2 1 .+ fetch(r)\n",
    "\n",
    "fetch(s)"
   ]
  },
  {
   "cell_type": "code",
   "execution_count": 8,
   "metadata": {},
   "outputs": [
    {
     "data": {
      "text/plain": [
       "0.5351106303820665"
      ]
     },
     "execution_count": 8,
     "metadata": {},
     "output_type": "execute_result"
    }
   ],
   "source": [
    "# remotecall i fetch w jednym\n",
    "remotecall_fetch(getindex, 2, r, 1, 1)"
   ]
  },
  {
   "cell_type": "code",
   "execution_count": 9,
   "metadata": {},
   "outputs": [
    {
     "data": {
      "text/plain": [
       "2×2 Array{Float64,2}:\n",
       " 1.50855  1.18484\n",
       " 1.78214  1.65356"
      ]
     },
     "execution_count": 9,
     "metadata": {},
     "output_type": "execute_result"
    }
   ],
   "source": [
    "# makro @spawn wybiera zdalny proces. \n",
    "# Druga linijka wykona się na tym samym procesie co pierwsza, \n",
    "# aby nie trzeba było przesyłać danych\n",
    "# można definiować własne makra typu @spawn\n",
    "# raz ściągnięty wynik future jest przechowywany lokalnie (cache), \n",
    "# wartość przechowywana zdalnie jest kasowana.\n",
    "r = @spawn rand(2,2)\n",
    "s = @spawn 1 .+ fetch(r)\n",
    "fetch(s)"
   ]
  },
  {
   "cell_type": "markdown",
   "metadata": {},
   "source": [
    "Przykład użycia zdalnych kanałow komunikacji (Remote Channels)"
   ]
  },
  {
   "cell_type": "code",
   "execution_count": 10,
   "metadata": {},
   "outputs": [],
   "source": [
    "# zdalny kanał przekazujący numery zadań\n",
    "const jobs = RemoteChannel(()->Channel{Int}(32));"
   ]
  },
  {
   "cell_type": "code",
   "execution_count": 11,
   "metadata": {},
   "outputs": [],
   "source": [
    "# zdalny kanał przekazujący wyniki\n",
    "const results = RemoteChannel(()->Channel{Tuple}(32));"
   ]
  },
  {
   "cell_type": "code",
   "execution_count": 12,
   "metadata": {},
   "outputs": [],
   "source": [
    "# funkcja wykonująca pewną (symulowaną sleepem) \"pracę\"\n",
    " @everywhere function do_work(jobs, results) # define work function everywhere\n",
    "           while true   \n",
    "               job_id = take!(jobs)\n",
    "               exec_time = rand()\n",
    "               sleep(exec_time) # simulates elapsed time doing actual work\n",
    "               put!(results, (job_id, exec_time, myid()))\n",
    "           end\n",
    "  end\n"
   ]
  },
  {
   "cell_type": "code",
   "execution_count": 13,
   "metadata": {},
   "outputs": [],
   "source": [
    "# funkcja wkładająca  do kanału numery \"prac\"\n",
    "\n",
    "function make_jobs(n)\n",
    "           for i in 1:n\n",
    "               put!(jobs, i)\n",
    "           end\n",
    "end;"
   ]
  },
  {
   "cell_type": "code",
   "execution_count": 14,
   "metadata": {},
   "outputs": [],
   "source": [
    "n = 12;"
   ]
  },
  {
   "cell_type": "code",
   "execution_count": 15,
   "metadata": {},
   "outputs": [],
   "source": [
    "@async make_jobs(n);"
   ]
  },
  {
   "cell_type": "code",
   "execution_count": 16,
   "metadata": {},
   "outputs": [],
   "source": [
    "# starujemy zdalne zadania\n",
    "\n",
    "for p in workers() # start tasks on the workers to process requests in parallel\n",
    "           remote_do(do_work, p, jobs, results)\n",
    "end"
   ]
  },
  {
   "cell_type": "code",
   "execution_count": 17,
   "metadata": {},
   "outputs": [
    {
     "name": "stdout",
     "output_type": "stream",
     "text": [
      "3 finished in 0.2 seconds on worker 2\n",
      "4 finished in 0.27 seconds on worker 4\n",
      "1 finished in 0.55 seconds on worker 3\n",
      "5 finished in 0.34 seconds on worker 2\n",
      "6 finished in 0.3 seconds on worker 4\n",
      "2 finished in 0.76 seconds on worker 5\n",
      "8 finished in 0.3 seconds on worker 3\n",
      "10 finished in 0.1 seconds on worker 5\n",
      "9 finished in 0.2 seconds on worker 4\n",
      "12 finished in 0.14 seconds on worker 5\n",
      "7 finished in 0.87 seconds on worker 2\n",
      "11 finished in 0.71 seconds on worker 3\n"
     ]
    }
   ],
   "source": [
    "# wypisujemy wyniki\n",
    "\n",
    "while n > 0 # print out results\n",
    "           job_id, exec_time, where = take!(results)\n",
    "           println(\"$job_id finished in $(round(exec_time; digits=2)) seconds on worker $where\")\n",
    "           n = n - 1\n",
    "end"
   ]
  },
  {
   "cell_type": "code",
   "execution_count": 18,
   "metadata": {},
   "outputs": [],
   "source": [
    "# przesyłamy wiadomośc o zamknięciu do zdalnych procesów\n",
    "finalize(jobs)\n",
    "finalize(results)"
   ]
  },
  {
   "cell_type": "markdown",
   "metadata": {},
   "source": [
    "### Zadanie\n",
    "\n",
    "* Zaimplementować obliczanie zbioru Julii z poprzedniego laboratorium    za pomocą mechanizmu przydziału prac do workerów. Ilość zadań powinna być o rząd wielkości większa od liczby workerów\n",
    "* Zmierzyć przyspieszenie i efektywność algorytmu. \n",
    "\n"
   ]
  }
 ],
 "metadata": {
  "kernelspec": {
   "display_name": "Julia 1.0.0",
   "language": "julia",
   "name": "julia-1.0"
  },
  "language_info": {
   "file_extension": ".jl",
   "mimetype": "application/julia",
   "name": "julia",
   "version": "1.0.0"
  }
 },
 "nbformat": 4,
 "nbformat_minor": 1
}
