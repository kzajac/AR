{
 "cells": [
  {
   "cell_type": "markdown",
   "metadata": {},
   "source": [
    "### Algorytm Branch-and-bound"
   ]
  },
  {
   "cell_type": "markdown",
   "metadata": {},
   "source": [
    "Kanały komunikacyjne pomiędzy zadaniami współbieżnymi (tutaj w ramach jednego procesu)"
   ]
  },
  {
   "cell_type": "code",
   "execution_count": 1,
   "metadata": {},
   "outputs": [
    {
     "data": {
      "text/plain": [
       "Task (runnable) @0x00007f6cbe131f90"
      ]
     },
     "execution_count": 1,
     "metadata": {},
     "output_type": "execute_result"
    }
   ],
   "source": [
    "# Definijemy kanał komunikacyjny\n",
    "c= Channel(32)\n",
    "\n",
    "# funkcja consumer czyta dane z kanalu komunikacyjnego \n",
    "function consumer()\n",
    "    for i in 1:3\n",
    "        data = take!(c)\n",
    "        println(\"Konsumuje \", data)\n",
    "    end    \n",
    "end\n",
    "\n",
    "#uruchamiam funkcje consumer() jako współbieżne zadanie (Task)\n",
    "consumertask= @schedule consumer()\n"
   ]
  },
  {
   "cell_type": "code",
   "execution_count": 2,
   "metadata": {},
   "outputs": [
    {
     "name": "stdout",
     "output_type": "stream",
     "text": [
      "Konsumuje 1\n",
      "Konsumuje 2\n",
      "Konsumuje 3\n"
     ]
    }
   ],
   "source": [
    "# pętla producenta\n",
    "for i in 1:3\n",
    "    put!(c,i) \n",
    "end"
   ]
  },
  {
   "cell_type": "markdown",
   "metadata": {},
   "source": [
    "Przykład użycia zdalnych kanałow komunikacji (Remote Channels)"
   ]
  },
  {
   "cell_type": "code",
   "execution_count": 3,
   "metadata": {},
   "outputs": [
    {
     "data": {
      "text/plain": [
       "5"
      ]
     },
     "execution_count": 3,
     "metadata": {},
     "output_type": "execute_result"
    }
   ],
   "source": [
    "addprocs(4)\n",
    "nprocs()"
   ]
  },
  {
   "cell_type": "code",
   "execution_count": 4,
   "metadata": {},
   "outputs": [],
   "source": [
    "# zdalny kanał przekazujący numery zadań\n",
    "const jobs = RemoteChannel(()->Channel{Int}(32));"
   ]
  },
  {
   "cell_type": "code",
   "execution_count": 5,
   "metadata": {},
   "outputs": [],
   "source": [
    "# zdalny kanał przekazujący wyniki\n",
    "const results = RemoteChannel(()->Channel{Tuple}(32));"
   ]
  },
  {
   "cell_type": "code",
   "execution_count": 6,
   "metadata": {},
   "outputs": [],
   "source": [
    "# funkcja wykonująca pewną (symulowaną sleepem) \"pracę\"\n",
    "@everywhere function do_work(jobs, results) \n",
    "           while true\n",
    "               job_id = take!(jobs)\n",
    "               exec_time = rand()\n",
    "               sleep(exec_time) # symulacja \"pracy\"\n",
    "               put!(results, (job_id, exec_time, myid()))\n",
    "           end\n",
    "       end"
   ]
  },
  {
   "cell_type": "code",
   "execution_count": 7,
   "metadata": {},
   "outputs": [],
   "source": [
    "# funkcja wkładająca  do kanału numery \"prac\"\n",
    "function make_jobs(n)\n",
    "           for i in 1:n\n",
    "               put!(jobs, i)\n",
    "           end\n",
    "end;"
   ]
  },
  {
   "cell_type": "code",
   "execution_count": 8,
   "metadata": {},
   "outputs": [],
   "source": [
    "n = 12;"
   ]
  },
  {
   "cell_type": "code",
   "execution_count": 9,
   "metadata": {},
   "outputs": [],
   "source": [
    "@schedule make_jobs(n);"
   ]
  },
  {
   "cell_type": "code",
   "execution_count": 10,
   "metadata": {},
   "outputs": [],
   "source": [
    "# starujemy zdalne zadania\n",
    "for p in workers() \n",
    "           @async remote_do(do_work, p, jobs, results)\n",
    "end\n"
   ]
  },
  {
   "cell_type": "code",
   "execution_count": 11,
   "metadata": {},
   "outputs": [
    {
     "name": "stdout",
     "output_type": "stream",
     "text": [
      "3 finished in 0.27 seconds on worker 3\n",
      "4 finished in 0.35 seconds on worker 2\n",
      "1 finished in 0.88 seconds on worker 4\n",
      "6 finished in 0.49 seconds on worker 2\n",
      "2 finished in 0.96 seconds on worker 5\n",
      "8 finished in 0.25 seconds on worker 2\n",
      "5 finished in 0.94 seconds on worker 3\n",
      "11 finished in 0.05 seconds on worker 3\n",
      "7 finished in 0.56 seconds on worker 4\n",
      "12 finished in 0.22 seconds on worker 3\n",
      "9 finished in 0.63 seconds on worker 5\n",
      "10 finished in 0.92 seconds on worker 2\n"
     ]
    },
    {
     "data": {
      "text/plain": [
       "3.662274086"
      ]
     },
     "execution_count": 11,
     "metadata": {},
     "output_type": "execute_result"
    }
   ],
   "source": [
    "# wypisujemy wyniki\n",
    "@elapsed while n > 0 \n",
    "           job_id, exec_time, where = take!(results)\n",
    "           println(\"$job_id finished in $(round(exec_time,2)) seconds on worker $where\")\n",
    "           n = n - 1\n",
    "       end"
   ]
  },
  {
   "cell_type": "markdown",
   "metadata": {},
   "source": [
    "### Opis problemu\n",
    "\n",
    "* Znaną klasą problemów sa zadania decyzyjne. Przykladem takiego problemu moze być <a href=\"http://www.mcs.anl.gov/~itf/dbpp/text/node21.html#SECTION02370000000000000000\">optymalizacja zagospodarownia miejsca w okreslonym obszarze potrzebna m.in w projektowaniu ukladow VLSI.</a>\n",
    "\n",
    "* Powyższy link pokazuje jeden ze sposobow zrownoleglania takiego problemu za pomoca drzewa i algorymu \"branch-and-bound search\". Zadanie ma na celu zapoznianie sie z tym algorytmem i zastosowanie go do problemu decyzyjnego na przykladzie problemu komiwłojażera\n",
    "\n",
    "* Przyklad: Problem komiwłojażera (travelling salesman problem)\n",
    "Dane jest N miast oraz dlugosci odcinkow pomiedzy miastami, należy znalezc cykl o minimalnej dlugosci zawierajacy wszystkie miasta. \n",
    "\n",
    "* Uwaga: użycie algorytmu branch-and-bound jest obowiązkowe dla tego ćwiczenia! \n",
    "\n"
   ]
  },
  {
   "cell_type": "markdown",
   "metadata": {},
   "source": [
    "### Zadanie\n",
    "\n",
    "\n",
    "* Przestawić krótki opis algorytmu równoległego branch and bound wg metodologii PCAM\n",
    "* Zaimplementować rozwiązanie  w jezyku Julia za pomocą mechanizmu przydziału prac do workerów. Kolejne poddrzewa są kolejnymi \"pracami\".\n",
    "* Należy zmierzyć jaka gruboziarnistość poddrzew jest optymalna dla zaproponowanego rozwiązania. Czy dużo cienkich poddrzew, czy raczej mało grubych poddrzew? Przedstawić wykresy przyspieszenia i efektywności.\n",
    "* Workerzy  komunikują aktualne minimum za pomocą mechanizmów  channeli. Na tej podstawie dokonywane jest obcinanie drzew (pruning). \n",
    "\n",
    "\n"
   ]
  }
 ],
 "metadata": {
  "kernelspec": {
   "display_name": "Julia 0.6.0",
   "language": "julia",
   "name": "julia-0.6"
  },
  "language_info": {
   "file_extension": ".jl",
   "mimetype": "application/julia",
   "name": "julia",
   "version": "0.6.0"
  }
 },
 "nbformat": 4,
 "nbformat_minor": 1
}
