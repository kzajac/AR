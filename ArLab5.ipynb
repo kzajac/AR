{
 "cells": [
  {
   "cell_type": "markdown",
   "metadata": {},
   "source": [
    "## Tablice Rozproszone w Języku Julia"
   ]
  },
  {
   "cell_type": "markdown",
   "metadata": {},
   "source": [
    "### Tablice w Julii \n",
    "Co warto wiedzieć?"
   ]
  },
  {
   "cell_type": "code",
   "execution_count": 25,
   "metadata": {},
   "outputs": [
    {
     "data": {
      "text/plain": [
       "4×4 Array{Float64,2}:\n",
       " 0.442029   0.739513  0.555822   0.783535\n",
       " 0.918924   0.45684   0.0488534  0.490098\n",
       " 0.0310092  0.952315  0.0527051  0.35621 \n",
       " 0.16121    0.262807  0.464051   0.222112"
      ]
     },
     "execution_count": 25,
     "metadata": {},
     "output_type": "execute_result"
    }
   ],
   "source": [
    "#Przykładowa tablica 4x4\n",
    "A=rand(4,4)"
   ]
  },
  {
   "cell_type": "code",
   "execution_count": 2,
   "metadata": {},
   "outputs": [
    {
     "data": {
      "text/plain": [
       "0.7592298400127797"
      ]
     },
     "execution_count": 2,
     "metadata": {},
     "output_type": "execute_result"
    }
   ],
   "source": [
    "# tablice indeksowane są od 1 !\n",
    "A[1,1]"
   ]
  },
  {
   "cell_type": "code",
   "execution_count": 3,
   "metadata": {},
   "outputs": [
    {
     "data": {
      "text/plain": [
       "16-element Array{Float64,1}:\n",
       " 0.75923  \n",
       " 0.525472 \n",
       " 0.627278 \n",
       " 0.399921 \n",
       " 0.765131 \n",
       " 0.0648613\n",
       " 0.425914 \n",
       " 0.501631 \n",
       " 0.373734 \n",
       " 0.183923 \n",
       " 0.525591 \n",
       " 0.843161 \n",
       " 0.389722 \n",
       " 0.791188 \n",
       " 0.639701 \n",
       " 0.0202176"
      ]
     },
     "execution_count": 3,
     "metadata": {},
     "output_type": "execute_result"
    }
   ],
   "source": [
    "# Należy pamiętać o \"column-major\" dostępie do tablic - \n",
    "# pierwszy indeks zmienia się szybciej\n",
    "# tak jak Matlab, R, Fortran \n",
    "# inaczej niz C, Python\n",
    "vec(A)"
   ]
  },
  {
   "cell_type": "code",
   "execution_count": 4,
   "metadata": {},
   "outputs": [
    {
     "data": {
      "text/plain": [
       "0.7592298400127797"
      ]
     },
     "execution_count": 4,
     "metadata": {},
     "output_type": "execute_result"
    }
   ],
   "source": [
    "first(A)"
   ]
  },
  {
   "cell_type": "code",
   "execution_count": 5,
   "metadata": {},
   "outputs": [
    {
     "data": {
      "text/plain": [
       "0.020217624377653953"
      ]
     },
     "execution_count": 5,
     "metadata": {},
     "output_type": "execute_result"
    }
   ],
   "source": [
    "last(A)"
   ]
  },
  {
   "cell_type": "code",
   "execution_count": 6,
   "metadata": {},
   "outputs": [
    {
     "data": {
      "text/plain": [
       "(4, 4)"
      ]
     },
     "execution_count": 6,
     "metadata": {},
     "output_type": "execute_result"
    }
   ],
   "source": [
    "size(A)"
   ]
  },
  {
   "cell_type": "markdown",
   "metadata": {},
   "source": [
    "### Tablice rozproszone\n",
    "\n",
    "https://github.com/JuliaParallel/DistributedArrays.jl"
   ]
  },
  {
   "cell_type": "code",
   "execution_count": 8,
   "metadata": {},
   "outputs": [
    {
     "data": {
      "text/plain": [
       "5-element Array{Int64,1}:\n",
       " 2\n",
       " 3\n",
       " 4\n",
       " 5\n",
       " 6"
      ]
     },
     "execution_count": 8,
     "metadata": {},
     "output_type": "execute_result"
    }
   ],
   "source": [
    "addprocs(5)"
   ]
  },
  {
   "cell_type": "code",
   "execution_count": 9,
   "metadata": {},
   "outputs": [
    {
     "data": {
      "text/plain": [
       "5"
      ]
     },
     "execution_count": 9,
     "metadata": {},
     "output_type": "execute_result"
    }
   ],
   "source": [
    "nworkers()"
   ]
  },
  {
   "cell_type": "code",
   "execution_count": 10,
   "metadata": {},
   "outputs": [],
   "source": [
    "# @everywhere - wykonuje sie na kazdym procesie\n",
    "@everywhere using DistributedArrays"
   ]
  },
  {
   "cell_type": "code",
   "execution_count": 11,
   "metadata": {},
   "outputs": [
    {
     "data": {
      "text/plain": [
       "5×5 DistributedArrays.DArray{Tuple{Int64,Int64},2,Array{Tuple{Int64,Int64},2}}:\n",
       " (1, 1)  (1, 2)  (1, 3)  (1, 4)  (1, 5)\n",
       " (2, 1)  (2, 2)  (2, 3)  (2, 4)  (2, 5)\n",
       " (3, 1)  (3, 2)  (3, 3)  (3, 4)  (3, 5)\n",
       " (4, 1)  (4, 2)  (4, 3)  (4, 4)  (4, 5)\n",
       " (5, 1)  (5, 2)  (5, 3)  (5, 4)  (5, 5)"
      ]
     },
     "execution_count": 11,
     "metadata": {},
     "output_type": "execute_result"
    }
   ],
   "source": [
    "#tworzymy tablicę rozproszona pomiędzy workery \n",
    "DA1 = @DArray [(i, j) for i = 1:5, j = 1:5]"
   ]
  },
  {
   "cell_type": "code",
   "execution_count": 12,
   "metadata": {},
   "outputs": [
    {
     "name": "stdout",
     "output_type": "stream",
     "text": [
      "(1:5, 1:1)\n",
      "(1:5, 2:2)\n",
      "(1:5, 3:3)\n",
      "(1:5, 4:4)\n",
      "(1:5, 5:5)\n"
     ]
    }
   ],
   "source": [
    "# localindexes - funkcja pokazujaca jaki zakres indeksów obejmuje dany worker\n",
    "#funkcja remotecall() zwraca future, które później jest użyte do ściągnięcia wyniku w funkcji fetch() \n",
    "refs = [remotecall(localindexes,w,DA1) for w in workers()]\n",
    "for r in refs\n",
    "     d = fetch(r)\n",
    "     println(d)\n",
    "end"
   ]
  },
  {
   "cell_type": "code",
   "execution_count": 13,
   "metadata": {},
   "outputs": [
    {
     "name": "stdout",
     "output_type": "stream",
     "text": [
      "----------\n",
      "Tuple{Int64,Int64}[(1, 1); (2, 1); (3, 1); (4, 1); (5, 1)]\n",
      "----------\n",
      "Tuple{Int64,Int64}[(1, 2); (2, 2); (3, 2); (4, 2); (5, 2)]\n",
      "----------\n",
      "Tuple{Int64,Int64}[(1, 3); (2, 3); (3, 3); (4, 3); (5, 3)]\n",
      "----------\n",
      "Tuple{Int64,Int64}[(1, 4); (2, 4); (3, 4); (4, 4); (5, 4)]\n",
      "----------\n",
      "Tuple{Int64,Int64}[(1, 5); (2, 5); (3, 5); (4, 5); (5, 5)]\n"
     ]
    }
   ],
   "source": [
    "# localpart - jaka część tablicy przyporządkowana jest danemu workerowi\n",
    "refs = [remotecall(localpart,w,DA1) for w in workers()]\n",
    "for r in refs\n",
    "     d = fetch(r)\n",
    "     print(\"----------\\n\")\n",
    "     println(d)\n",
    "end"
   ]
  },
  {
   "cell_type": "code",
   "execution_count": 14,
   "metadata": {},
   "outputs": [],
   "source": [
    "#przykład przetwarzania tablicy rozproszonej\n",
    "@everywhere function processingExample(d::DArray)\n",
    "        println(size(d), \" \", procs(d))\n",
    "         # konstruktor tablicy rozproszonej, podajemy całkowity rozmiar, listę procesów oraz blok do...end inicjalizujacy \n",
    "         # tablicę\n",
    "        DArray(size(d),procs(d)) do I\n",
    "          println(\"mój zakres \", I)\n",
    "          fill( myid(),(length(I[1]), length(I[2])))\n",
    "        end\n",
    "end"
   ]
  },
  {
   "cell_type": "code",
   "execution_count": 15,
   "metadata": {},
   "outputs": [
    {
     "name": "stdout",
     "output_type": "stream",
     "text": [
      "(5, 5) [2 3 4 5 6]\n",
      "\tFrom worker 2:\tmój zakres (1:5, 1:1)\n",
      "\tFrom worker 4:\tmój zakres (1:5, 3:3)\n",
      "\tFrom worker 6:\tmój zakres (1:5, 5:5)\n",
      "\tFrom worker 5:\tmój zakres (1:5, 4:4)\n",
      "\tFrom worker 3:\tmój zakres (1:5, 2:2)\n"
     ]
    },
    {
     "data": {
      "text/plain": [
       "5×5 DistributedArrays.DArray{Int64,2,Array{Int64,2}}:\n",
       " 2  3  4  5  6\n",
       " 2  3  4  5  6\n",
       " 2  3  4  5  6\n",
       " 2  3  4  5  6\n",
       " 2  3  4  5  6"
      ]
     },
     "execution_count": 15,
     "metadata": {},
     "output_type": "execute_result"
    }
   ],
   "source": [
    "processingExample(DA1)"
   ]
  },
  {
   "cell_type": "markdown",
   "metadata": {},
   "source": [
    "### Gra w życie\n",
    "https://pl.wikipedia.org/wiki/Gra_w_%C5%BCycie"
   ]
  },
  {
   "cell_type": "code",
   "execution_count": 26,
   "metadata": {},
   "outputs": [],
   "source": [
    "# Przykład komunikacji z najbliższymi sąsiadami -  gra w życie\n",
    "#Sciaganie danych od sąsiadów jest realizowane przez kopiowanie danych wg odpowiednich indeksów\n",
    "@everywhere function life_step(d::DArray)\n",
    "        println(size(d), \" \", procs(d))\n",
    "         # konstruktor tablicy rozproszonej, podajemy całkowity rozmiar, listę procesów oraz blok do...end inicjalizujacy \n",
    "         # tablicę\n",
    "        DArray(size(d),procs(d)) do I\n",
    "        \n",
    "            # granice powiększone o brzegi sąsiadów\n",
    "            top   = mod(first(I[1])-2,size(d,1))+1\n",
    "            bot   = mod( last(I[1])  ,size(d,1))+1\n",
    "            left  = mod(first(I[2])-2,size(d,2))+1\n",
    "            right = mod( last(I[2])  ,size(d,2))+1\n",
    "            println(\"Mój zakres \", I, \" mój zakres + sąsiadujące brzegi \", \" bot=\", bot, \" top=\",top,\" left=\", left, \" right=\",right) \n",
    "           \n",
    "           \n",
    "            # lokalna tablica , do której ściagane są dane od sąsiadów\n",
    "            old = Array{Int64}(length(I[1])+2, length(I[2])+2)\n",
    "     \n",
    "            old[1      , 1      ] = d[top , left]   # left side\n",
    "            old[2:end-1, 1      ] = d[I[1], left]\n",
    "            old[end    , 1      ] = d[bot , left]\n",
    "            old[1      , 2:end-1] = d[top , I[2]]\n",
    "            old[2:end-1, 2:end-1] = d[I[1], I[2]]   # middle\n",
    "            old[end    , 2:end-1] = d[bot , I[2]]\n",
    "            old[1      , end    ] = d[top , right]  # right side\n",
    "            old[2:end-1, end    ] = d[I[1], right]\n",
    "            old[end    , end    ] = d[bot , right]\n",
    "          \n",
    "            # zwracana tablica new to wynik przetworzenia (lokalnie) naszej części tablicy, z której skomponowana zostanie wyjściowa\n",
    "            # tablica rozproszona\n",
    "            new=life_rule(old)\n",
    "         \n",
    "         \n",
    "        end\n",
    "    end"
   ]
  },
  {
   "cell_type": "code",
   "execution_count": 27,
   "metadata": {},
   "outputs": [],
   "source": [
    "# reguła gry w życie (uruchamiana na lokalnych danych)\n",
    "@everywhere function life_rule(old)\n",
    "        m, n = size(old)\n",
    "        new = similar(old, m-2, n-2)\n",
    "        for j = 2:n-1\n",
    "            for i = 2:m-1\n",
    "                nc = +(old[i-1,j-1], old[i-1,j], old[i-1,j+1],\n",
    "                       old[i  ,j-1],             old[i  ,j+1],\n",
    "                       old[i+1,j-1], old[i+1,j], old[i+1,j+1])\n",
    "                new[i-1,j-1] = (nc == 3 || nc == 2 && old[i,j])\n",
    "            end\n",
    "        end\n",
    "        new\n",
    "    end"
   ]
  },
  {
   "cell_type": "code",
   "execution_count": 28,
   "metadata": {},
   "outputs": [
    {
     "data": {
      "text/plain": [
       "15×15 DistributedArrays.DArray{Int64,2,Array{Int64,2}}:\n",
       " 0  1  0  1  0  1  0  1  0  1  0  1  0  1  0\n",
       " 1  0  1  0  1  0  1  0  1  0  1  0  1  0  1\n",
       " 0  1  0  1  0  1  0  1  0  1  0  1  0  1  0\n",
       " 1  0  1  0  1  0  1  0  1  0  1  0  1  0  1\n",
       " 0  1  0  1  0  1  0  1  0  1  0  1  0  1  0\n",
       " 1  0  1  0  1  0  1  0  1  0  1  0  1  0  1\n",
       " 0  1  0  1  0  1  0  1  0  1  0  1  0  1  0\n",
       " 1  0  1  0  1  0  1  0  1  0  1  0  1  0  1\n",
       " 0  1  0  1  0  1  0  1  0  1  0  1  0  1  0\n",
       " 1  0  1  0  1  0  1  0  1  0  1  0  1  0  1\n",
       " 0  1  0  1  0  1  0  1  0  1  0  1  0  1  0\n",
       " 1  0  1  0  1  0  1  0  1  0  1  0  1  0  1\n",
       " 0  1  0  1  0  1  0  1  0  1  0  1  0  1  0\n",
       " 1  0  1  0  1  0  1  0  1  0  1  0  1  0  1\n",
       " 0  1  0  1  0  1  0  1  0  1  0  1  0  1  0"
      ]
     },
     "execution_count": 28,
     "metadata": {},
     "output_type": "execute_result"
    }
   ],
   "source": [
    "# przykładowa tablica wejściowa\n",
    "DA = @DArray [((i+j)%2) for i = 1:15, j = 1:15]"
   ]
  },
  {
   "cell_type": "code",
   "execution_count": 29,
   "metadata": {},
   "outputs": [
    {
     "name": "stdout",
     "output_type": "stream",
     "text": [
      "(15, 15) [2 3 4 5 6]\n",
      "\tFrom worker 3:\tMój zakres (1:15, 4:6) mój zakres + sąsiadujące brzegi  bot=1 top=15 left=3 right=7\n",
      "\tFrom worker 5:\tMój zakres (1:15, 10:12) mój zakres + sąsiadujące brzegi  bot=1 top=15 left=9 right=13\n",
      "\tFrom worker 2:\tMój zakres (1:15, 1:3) mój zakres + sąsiadujące brzegi  bot=1 top=15 left=15 right=4\n",
      "\tFrom worker 4:\tMój zakres (1:15, 7:9) mój zakres + sąsiadujące brzegi  bot=1 top=15 left=6 right=10\n",
      "\tFrom worker 6:\tMój zakres (1:15, 13:15) mój zakres + sąsiadujące brzegi  bot=1 top=15 left=12 right=1\n"
     ]
    },
    {
     "data": {
      "text/plain": [
       "15×15 DistributedArrays.DArray{Int64,2,Array{Int64,2}}:\n",
       " 0  1  0  1  0  1  0  1  0  1  0  1  0  1  0\n",
       " 1  0  0  0  0  0  0  0  0  0  0  0  0  0  1\n",
       " 0  0  0  0  0  0  0  0  0  0  0  0  0  0  0\n",
       " 1  0  0  0  0  0  0  0  0  0  0  0  0  0  1\n",
       " 0  0  0  0  0  0  0  0  0  0  0  0  0  0  0\n",
       " 1  0  0  0  0  0  0  0  0  0  0  0  0  0  1\n",
       " 0  0  0  0  0  0  0  0  0  0  0  0  0  0  0\n",
       " 1  0  0  0  0  0  0  0  0  0  0  0  0  0  1\n",
       " 0  0  0  0  0  0  0  0  0  0  0  0  0  0  0\n",
       " 1  0  0  0  0  0  0  0  0  0  0  0  0  0  1\n",
       " 0  0  0  0  0  0  0  0  0  0  0  0  0  0  0\n",
       " 1  0  0  0  0  0  0  0  0  0  0  0  0  0  1\n",
       " 0  0  0  0  0  0  0  0  0  0  0  0  0  0  0\n",
       " 1  0  0  0  0  0  0  0  0  0  0  0  0  0  1\n",
       " 0  1  0  1  0  1  0  1  0  1  0  1  0  1  0"
      ]
     },
     "execution_count": 29,
     "metadata": {},
     "output_type": "execute_result"
    }
   ],
   "source": [
    "# krok gry w życie\n",
    "life_step(DA)"
   ]
  },
  {
   "cell_type": "markdown",
   "metadata": {},
   "source": [
    "### Wbudowane proste narzędzia do pomiarów wydajności w języku Julia"
   ]
  },
  {
   "cell_type": "code",
   "execution_count": 20,
   "metadata": {},
   "outputs": [
    {
     "data": {
      "text/plain": [
       "3146785"
      ]
     },
     "execution_count": 20,
     "metadata": {},
     "output_type": "execute_result"
    }
   ],
   "source": [
    "# Sprawdzanie alokacji pamięci (ilość zaalokowanej pamięci w bytes)\n",
    "\n",
    "@allocated fft(randn(10,10))"
   ]
  },
  {
   "cell_type": "code",
   "execution_count": 21,
   "metadata": {},
   "outputs": [
    {
     "name": "stdout",
     "output_type": "stream",
     "text": [
      "  0.006140 seconds (197 allocations: 17.998 KiB)\n"
     ]
    },
    {
     "data": {
      "text/plain": [
       "10×10 Array{Complex{Float64},2}:\n",
       " -1.73026+0.0im       -1.29945+11.6653im   …  -1.29945-11.6653im \n",
       "    9.651+11.4318im   -2.78856-0.177534im     -9.51593+2.33425im \n",
       " -2.76109+4.1445im    -8.89496-4.87855im       19.5658-14.8469im \n",
       " -11.6798-0.201726im  -3.39312+12.6561im       7.34868+5.1811im  \n",
       "  3.51692-13.4765im    4.42437+1.58124im       6.75733-6.96393im \n",
       " -6.01462+0.0im       -10.1085-18.9162im   …  -10.1085+18.9162im \n",
       "  3.51692+13.4765im    6.75733+6.96393im       4.42437-1.58124im \n",
       " -11.6798+0.201726im   7.34868-5.1811im       -3.39312-12.6561im \n",
       " -2.76109-4.1445im     19.5658+14.8469im      -8.89496+4.87855im \n",
       "    9.651-11.4318im   -9.51593-2.33425im      -2.78856+0.177534im"
      ]
     },
     "execution_count": 21,
     "metadata": {},
     "output_type": "execute_result"
    }
   ],
   "source": [
    "# Sprawdzanie czasu obliczeń, ilości alokacji itp.\n",
    "@time fft(randn(10,10))"
   ]
  },
  {
   "cell_type": "code",
   "execution_count": 22,
   "metadata": {},
   "outputs": [
    {
     "name": "stdout",
     "output_type": "stream",
     "text": [
      "  0.000109 seconds (67 allocations: 8.141 KiB)\n",
      "elapsed time (ns): 108604\n",
      "bytes allocated:   8336\n",
      "pool allocs:       67\n"
     ]
    },
    {
     "data": {
      "text/plain": [
       "10×10 Array{Complex{Float64},2}:\n",
       " -18.7281+0.0im       -1.46318-5.43352im  …  -1.46318+5.43352im\n",
       "  4.59141+0.137518im   7.16324-8.2704im      -12.5081-8.19909im\n",
       "  3.81127+4.90334im   -1.09025+5.99689im     -8.92965-5.24035im\n",
       "  7.31994-11.6395im   -9.39664+7.58612im       -2.425-3.32655im\n",
       " -11.3951-8.2752im     4.87716-1.08517im     -8.99265+6.27504im\n",
       "  14.8462+0.0im        8.92873-1.67702im  …   8.92873+1.67702im\n",
       " -11.3951+8.2752im    -8.99265-6.27504im      4.87716+1.08517im\n",
       "  7.31994+11.6395im     -2.425+3.32655im     -9.39664-7.58612im\n",
       "  3.81127-4.90334im   -8.92965+5.24035im     -1.09025-5.99689im\n",
       "  4.59141-0.137518im  -12.5081+8.19909im      7.16324+8.2704im "
      ]
     },
     "execution_count": 22,
     "metadata": {},
     "output_type": "execute_result"
    }
   ],
   "source": [
    "@timev fft(randn(10,10))"
   ]
  },
  {
   "cell_type": "code",
   "execution_count": 23,
   "metadata": {},
   "outputs": [
    {
     "data": {
      "text/plain": [
       "0.000117804"
      ]
     },
     "execution_count": 23,
     "metadata": {},
     "output_type": "execute_result"
    }
   ],
   "source": [
    "#jeśli chcemy dostać wynik pomiaru, jako wartość:\n",
    "@elapsed(fft(randn(10,10)))"
   ]
  },
  {
   "cell_type": "markdown",
   "metadata": {},
   "source": [
    "Ważne ! za pierwszym razem wykonanie funkcji trwa dluzej (kompilacja), miarodajne jest więc drugie wykonanie funkcji"
   ]
  },
  {
   "cell_type": "markdown",
   "metadata": {},
   "source": [
    "dla zainteresowanych: pakiet BenchmarkTools https://github.com/JuliaCI/BenchmarkTools.jl"
   ]
  },
  {
   "cell_type": "markdown",
   "metadata": {},
   "source": [
    "### Zadania\n",
    "\n",
    "1. Zaimplementować rozwiązanie zadania z laboratorium 1 (Dekompozycja domenowa w zrównoleglaniu rozwiązywania równań różniczkowych cząstkowych) za pomocą Distiributed Arrays w Julii, przetestować implementacje  na klastrze Zeus, na wielordzeniowym węźle, zmierzyć przyspieszenie i efektywność dla zwiększającej się liczby procesów. Narysować wykresy. \n",
    "\n",
    "2. Zadanie dla chętnych (zrobienie go zwalnia z ostatniego zadania z przedmiotu) - uruchomić zadanie na wielu węzłach zeusa poprzez SSH cluster managera  https://docs.julialang.org/en/stable/manual/parallel-computing#ClusterManagers-1"
   ]
  }
 ],
 "metadata": {
  "kernelspec": {
   "display_name": "Julia 0.6.0",
   "language": "julia",
   "name": "julia-0.6"
  },
  "language_info": {
   "file_extension": ".jl",
   "mimetype": "application/julia",
   "name": "julia",
   "version": "0.6.0"
  }
 },
 "nbformat": 4,
 "nbformat_minor": 2
}
